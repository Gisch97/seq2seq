{
 "cells": [
  {
   "cell_type": "code",
   "execution_count": 1,
   "id": "f4c0b46d",
   "metadata": {},
   "outputs": [
    {
     "data": {
      "text/html": [
       "<div>\n",
       "<style scoped>\n",
       "    .dataframe tbody tr th:only-of-type {\n",
       "        vertical-align: middle;\n",
       "    }\n",
       "\n",
       "    .dataframe tbody tr th {\n",
       "        vertical-align: top;\n",
       "    }\n",
       "\n",
       "    .dataframe thead th {\n",
       "        text-align: right;\n",
       "    }\n",
       "</style>\n",
       "<table border=\"1\" class=\"dataframe\">\n",
       "  <thead>\n",
       "    <tr style=\"text-align: right;\">\n",
       "      <th></th>\n",
       "      <th>Unnamed: 0</th>\n",
       "      <th>id</th>\n",
       "      <th>fam</th>\n",
       "      <th>sequence</th>\n",
       "      <th>len</th>\n",
       "      <th>structure</th>\n",
       "      <th>base_pairs</th>\n",
       "      <th>pseudo_probe</th>\n",
       "      <th>motifs</th>\n",
       "      <th>stem</th>\n",
       "    </tr>\n",
       "  </thead>\n",
       "  <tbody>\n",
       "    <tr>\n",
       "      <th>772</th>\n",
       "      <td>4735</td>\n",
       "      <td>tRNA_tdbR00000160-Escherichia_coli-562-Ile-AU</td>\n",
       "      <td>tRNA</td>\n",
       "      <td>GGCCCCUUAGCUCAGUGGUUAGAGCAGGCGACUCAUAAUCGCUUGG...</td>\n",
       "      <td>76</td>\n",
       "      <td>(((((((..((((........))))((((((.......)))))).....</td>\n",
       "      <td>[[1, 72], [2, 71], [3, 70], [4, 69], [5, 68], ...</td>\n",
       "      <td>[1, 1, 1, 1, 1, 1, 1, 0, 0, 1, 1, 1, 1, 0, 0, ...</td>\n",
       "      <td>SSSSSSSMMSSSSHHHHHHHHSSSSSSSSSSHHHHHHHSSSSSSMM...</td>\n",
       "      <td>[1, 1, 1, 1, 1, 1, 1, 0, 0, 1, 1, 1, 1, 0, 0, ...</td>\n",
       "    </tr>\n",
       "    <tr>\n",
       "      <th>1414</th>\n",
       "      <td>8605</td>\n",
       "      <td>tRNA_tdbR00000148-Ovis_aries-9940-His-QUG</td>\n",
       "      <td>tRNA</td>\n",
       "      <td>GGCCGUGAUCGUAUAGUGGUUAGUACUCUGCGUUGUGGCCGCAGCA...</td>\n",
       "      <td>76</td>\n",
       "      <td>.(((((((..((((........)))).(((((.......))))).....</td>\n",
       "      <td>[[2, 72], [3, 71], [4, 70], [5, 69], [6, 68], ...</td>\n",
       "      <td>[0, 1, 1, 1, 1, 1, 1, 1, 0, 0, 1, 1, 1, 1, 0, ...</td>\n",
       "      <td>ESSSSSSSMMSSSSHHHHHHHHSSSSMSSSSSHHHHHHHSSSSSMM...</td>\n",
       "      <td>[0, 1, 1, 1, 1, 1, 1, 1, 0, 0, 1, 1, 1, 1, 0, ...</td>\n",
       "    </tr>\n",
       "  </tbody>\n",
       "</table>\n",
       "</div>"
      ],
      "text/plain": [
       "      Unnamed: 0                                             id   fam  \\\n",
       "772         4735  tRNA_tdbR00000160-Escherichia_coli-562-Ile-AU  tRNA   \n",
       "1414        8605      tRNA_tdbR00000148-Ovis_aries-9940-His-QUG  tRNA   \n",
       "\n",
       "                                               sequence  len  \\\n",
       "772   GGCCCCUUAGCUCAGUGGUUAGAGCAGGCGACUCAUAAUCGCUUGG...   76   \n",
       "1414  GGCCGUGAUCGUAUAGUGGUUAGUACUCUGCGUUGUGGCCGCAGCA...   76   \n",
       "\n",
       "                                              structure  \\\n",
       "772   (((((((..((((........))))((((((.......)))))).....   \n",
       "1414  .(((((((..((((........)))).(((((.......))))).....   \n",
       "\n",
       "                                             base_pairs  \\\n",
       "772   [[1, 72], [2, 71], [3, 70], [4, 69], [5, 68], ...   \n",
       "1414  [[2, 72], [3, 71], [4, 70], [5, 69], [6, 68], ...   \n",
       "\n",
       "                                           pseudo_probe  \\\n",
       "772   [1, 1, 1, 1, 1, 1, 1, 0, 0, 1, 1, 1, 1, 0, 0, ...   \n",
       "1414  [0, 1, 1, 1, 1, 1, 1, 1, 0, 0, 1, 1, 1, 1, 0, ...   \n",
       "\n",
       "                                                 motifs  \\\n",
       "772   SSSSSSSMMSSSSHHHHHHHHSSSSSSSSSSHHHHHHHSSSSSSMM...   \n",
       "1414  ESSSSSSSMMSSSSHHHHHHHHSSSSMSSSSSHHHHHHHSSSSSMM...   \n",
       "\n",
       "                                                   stem  \n",
       "772   [1, 1, 1, 1, 1, 1, 1, 0, 0, 1, 1, 1, 1, 0, 0, ...  \n",
       "1414  [0, 1, 1, 1, 1, 1, 1, 1, 0, 0, 1, 1, 1, 1, 0, ...  "
      ]
     },
     "metadata": {},
     "output_type": "display_data"
    },
    {
     "name": "stdout",
     "output_type": "stream",
     "text": [
      "key: id,   type:<class 'str'>\n",
      "key: length,   type:<class 'int'>\n",
      "key: sequence,   type:<class 'str'>\n",
      "key: embedding,   type:<class 'torch.Tensor'>\n",
      "key: pseudo_probing,   type:<class 'torch.Tensor'>\n",
      "key: stem,   type:<class 'torch.Tensor'>\n",
      "key: motif_emb,   type:<class 'torch.Tensor'>\n"
     ]
    }
   ],
   "source": [
    "import pandas as pd\n",
    "from src.seq2seq.dataset import SeqDataset, pad_batch\n",
    "from src.seq2seq.metrics import compute_metrics\n",
    "from torch.utils.data import DataLoader\n",
    "\n",
    "DATA_PATH = 'data/ArchiveII/ArchiveII_seq_sim_pp_motifs/train_0.csv'\n",
    "df = pd.read_csv(DATA_PATH)\n",
    "\n",
    "display(df.sample(2))\n",
    "data = SeqDataset(dataset_path=DATA_PATH)\n",
    "# print(data[0])\n",
    "for k, i in data[0].items():\n",
    "    print(f'key: {k},   type:{type(i)}')"
   ]
  },
  {
   "cell_type": "code",
   "execution_count": 2,
   "id": "6966b3bc",
   "metadata": {},
   "outputs": [],
   "source": [
    "from functools import partial\n",
    "pad_batch_with_fixed_length = partial(pad_batch, fixed_length=128)\n",
    "batch_size = 1\n",
    "loader = DataLoader(\n",
    "    SeqDataset(DATA_PATH),\n",
    "    batch_size=batch_size,\n",
    "    shuffle=False,\n",
    "    num_workers=0,\n",
    "    collate_fn=pad_batch_with_fixed_length,\n",
    ")\n",
    "load = iter(loader)\n",
    "d = next(load)\n",
    "d2 = next(load)"
   ]
  },
  {
   "cell_type": "code",
   "execution_count": 3,
   "id": "99b0d576",
   "metadata": {},
   "outputs": [
    {
     "ename": "UnboundLocalError",
     "evalue": "local variable 'true_idx' referenced before assignment",
     "output_type": "error",
     "traceback": [
      "\u001b[0;31m---------------------------------------------------------------------------\u001b[0m",
      "\u001b[0;31mUnboundLocalError\u001b[0m                         Traceback (most recent call last)",
      "Cell \u001b[0;32mIn[3], line 1\u001b[0m\n\u001b[0;32m----> 1\u001b[0m \u001b[43mcompute_metrics\u001b[49m\u001b[43m(\u001b[49m\u001b[43md\u001b[49m\u001b[43m[\u001b[49m\u001b[38;5;124;43m'\u001b[39;49m\u001b[38;5;124;43mmotif_emb\u001b[39;49m\u001b[38;5;124;43m'\u001b[39;49m\u001b[43m]\u001b[49m\u001b[43m,\u001b[49m\u001b[43md2\u001b[49m\u001b[43m[\u001b[49m\u001b[38;5;124;43m'\u001b[39;49m\u001b[38;5;124;43mmotif_emb\u001b[39;49m\u001b[38;5;124;43m'\u001b[39;49m\u001b[43m]\u001b[49m\u001b[43m,\u001b[49m\u001b[43m \u001b[49m\u001b[43md2\u001b[49m\u001b[43m[\u001b[49m\u001b[38;5;124;43m'\u001b[39;49m\u001b[38;5;124;43mmask\u001b[39;49m\u001b[38;5;124;43m'\u001b[39;49m\u001b[43m]\u001b[49m\u001b[43m,\u001b[49m\u001b[43m \u001b[49m\u001b[43mbinary\u001b[49m\u001b[38;5;241;43m=\u001b[39;49m\u001b[38;5;28;43;01mTrue\u001b[39;49;00m\u001b[43m)\u001b[49m\n",
      "File \u001b[0;32m~/Documents/Repos/seq2seq/src/seq2seq/metrics.py:27\u001b[0m, in \u001b[0;36mcompute_metrics\u001b[0;34m(x_rec, x_true, mask, binary, threshold)\u001b[0m\n\u001b[1;32m     25\u001b[0m \u001b[38;5;28;01melse\u001b[39;00m:\n\u001b[1;32m     26\u001b[0m     pred_flat \u001b[38;5;241m=\u001b[39m (xt_rec[mask] \u001b[38;5;241m>\u001b[39m threshold)\u001b[38;5;241m.\u001b[39mlong()   \n\u001b[0;32m---> 27\u001b[0m     true_flat \u001b[38;5;241m=\u001b[39m \u001b[43mtrue_idx\u001b[49m[mask]\n\u001b[1;32m     31\u001b[0m TP \u001b[38;5;241m=\u001b[39m (pred_flat \u001b[38;5;241m==\u001b[39m true_flat)\u001b[38;5;241m.\u001b[39msum()\u001b[38;5;241m.\u001b[39mitem()    \n\u001b[1;32m     33\u001b[0m total \u001b[38;5;241m=\u001b[39m mask\u001b[38;5;241m.\u001b[39msum()\u001b[38;5;241m.\u001b[39mitem()\n",
      "\u001b[0;31mUnboundLocalError\u001b[0m: local variable 'true_idx' referenced before assignment"
     ]
    }
   ],
   "source": [
    "compute_metrics(d['motif_emb'],d2['motif_emb'], d2['mask'], binary=True)"
   ]
  },
  {
   "cell_type": "code",
   "execution_count": null,
   "id": "2639d3ac",
   "metadata": {},
   "outputs": [
    {
     "name": "stdout",
     "output_type": "stream",
     "text": [
      "torch.Size([1, 128])\n",
      "torch.Size([1, 4, 128])\n"
     ]
    }
   ],
   "source": [
    "print(d2['mask'].shape)\n",
    "print(d2['embedding'].shape)"
   ]
  },
  {
   "cell_type": "code",
   "execution_count": null,
   "id": "c9ed7a96",
   "metadata": {},
   "outputs": [
    {
     "data": {
      "text/plain": [
       "tensor([[[-1.,  0.,  0.,  0.,  0.,  0.,  0.,  1.,  1.,  0., -1., -1., -1.,  0.,\n",
       "           0.,  1.,  1.,  1.,  1.,  1.,  1.,  0.,  0., -1., -1., -1., -1., -1.,\n",
       "           0.,  0.,  0.,  1.,  1.,  1.,  0.,  0.,  0.,  0., -1., -1., -1., -1.,\n",
       "          -1., -1.,  0.,  0.,  0.,  0.,  0.,  0.,  0., -1.,  0.,  1.,  1.,  0.,\n",
       "           0.,  0.,  0.,  0.,  0.,  0.,  0.,  0.,  0., -1.,  0.,  0., -1.,  0.,\n",
       "           0.,  0.,  1.,  1.,  0.,  0.,  0.,  0.,  1.,  1.,  1.,  1.,  1.,  1.,\n",
       "           0.,  0.,  0.,  0.,  1.,  1.,  1.,  1.,  1.,  1.,  0.,  0.,  0.,  0.,\n",
       "           1.,  1.,  0.,  1.,  1.,  0.,  0.,  0.,  1.,  1.,  1.,  1.,  1.,  1.,\n",
       "           1.,  1.,  1.,  0.,  0.,  0.,  0.,  0.,  0.,  0.,  0.,  0.,  0.,  0.,\n",
       "           0.,  0.]]])"
      ]
     },
     "execution_count": 27,
     "metadata": {},
     "output_type": "execute_result"
    }
   ],
   "source": [
    "d['pseudo_probing'] - d2['pseudo_probing']\n"
   ]
  },
  {
   "cell_type": "code",
   "execution_count": 24,
   "id": "ebd86186",
   "metadata": {},
   "outputs": [
    {
     "name": "stdout",
     "output_type": "stream",
     "text": [
      "torch.Size([2, 1, 3])\n",
      "torch.Size([2, 1, 3])\n",
      "torch.Size([2, 3])\n"
     ]
    },
    {
     "data": {
      "text/plain": [
       "tensor([[True, True, True],\n",
       "        [True, True, True]])"
      ]
     },
     "execution_count": 24,
     "metadata": {},
     "output_type": "execute_result"
    }
   ],
   "source": [
    "import torch as tr\n",
    "x = tr.Tensor([[[ 1.,  1.,  1.], ], \n",
    "               [[ 1.,  1.,  1.], ], \n",
    "               ])\n",
    "\n",
    "y = tr.Tensor([[[ 1.,  0.,  0.], ], \n",
    "               [[ 0.,  0.,  0.],], \n",
    "               ])\n",
    "mask = tr.zeros(2, 3, dtype= tr.bool)\n",
    "mask[:,:] = True\n",
    "\n",
    "print(x.shape)\n",
    "print(y.shape)\n",
    "print(mask.shape)\n",
    "mask"
   ]
  },
  {
   "cell_type": "code",
   "execution_count": 25,
   "id": "456a20eb",
   "metadata": {},
   "outputs": [
    {
     "name": "stdout",
     "output_type": "stream",
     "text": [
      "TP: 1, total: 6, acc: 0.16666666666666666\n"
     ]
    },
    {
     "data": {
      "text/plain": [
       "{'F1': 0.2857142857142857,\n",
       " 'Accuracy': 0.16666666666666666,\n",
       " 'Accuracy_seq': 0.0}"
      ]
     },
     "execution_count": 25,
     "metadata": {},
     "output_type": "execute_result"
    }
   ],
   "source": [
    "TP = (x.permute(0,2,1)[mask] == y.permute(0,2,1)[mask]).sum().item()   \n",
    "total = mask.sum().item()\n",
    "accuracy = TP / total if total > 0 else 0.0\n",
    "print(f'TP: {TP}, total: {total}, acc: {accuracy}')\n",
    "\n",
    "compute_metrics(x,y,mask, binary=True)"
   ]
  },
  {
   "cell_type": "code",
   "execution_count": null,
   "id": "5091d2d4",
   "metadata": {},
   "outputs": [
    {
     "data": {
      "text/plain": [
       "tensor([[0],\n",
       "        [0]])"
      ]
     },
     "execution_count": 28,
     "metadata": {},
     "output_type": "execute_result"
    }
   ],
   "source": [
    "x.argmax(dim=1)"
   ]
  },
  {
   "cell_type": "code",
   "execution_count": null,
   "id": "9c54ad9f",
   "metadata": {},
   "outputs": [
    {
     "data": {
      "text/plain": [
       "tensor([[0],\n",
       "        [0]])"
      ]
     },
     "execution_count": 29,
     "metadata": {},
     "output_type": "execute_result"
    }
   ],
   "source": [
    "y.argmax(dim=1)"
   ]
  },
  {
   "cell_type": "code",
   "execution_count": null,
   "id": "6bd9b873",
   "metadata": {},
   "outputs": [],
   "source": []
  }
 ],
 "metadata": {
  "kernelspec": {
   "display_name": "Experiments",
   "language": "python",
   "name": "python3"
  },
  "language_info": {
   "codemirror_mode": {
    "name": "ipython",
    "version": 3
   },
   "file_extension": ".py",
   "mimetype": "text/x-python",
   "name": "python",
   "nbconvert_exporter": "python",
   "pygments_lexer": "ipython3",
   "version": "3.10.16"
  }
 },
 "nbformat": 4,
 "nbformat_minor": 5
}
