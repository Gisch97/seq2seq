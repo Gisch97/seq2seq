{
 "cells": [
  {
   "cell_type": "code",
   "execution_count": 1,
   "id": "f4c0b46d",
   "metadata": {},
   "outputs": [
    {
     "data": {
      "text/html": [
       "<div>\n",
       "<style scoped>\n",
       "    .dataframe tbody tr th:only-of-type {\n",
       "        vertical-align: middle;\n",
       "    }\n",
       "\n",
       "    .dataframe tbody tr th {\n",
       "        vertical-align: top;\n",
       "    }\n",
       "\n",
       "    .dataframe thead th {\n",
       "        text-align: right;\n",
       "    }\n",
       "</style>\n",
       "<table border=\"1\" class=\"dataframe\">\n",
       "  <thead>\n",
       "    <tr style=\"text-align: right;\">\n",
       "      <th></th>\n",
       "      <th>Unnamed: 0</th>\n",
       "      <th>id</th>\n",
       "      <th>fam</th>\n",
       "      <th>sequence</th>\n",
       "      <th>len</th>\n",
       "      <th>structure</th>\n",
       "      <th>base_pairs</th>\n",
       "      <th>pseudo_probe</th>\n",
       "      <th>motifs</th>\n",
       "      <th>stem</th>\n",
       "    </tr>\n",
       "  </thead>\n",
       "  <tbody>\n",
       "    <tr>\n",
       "      <th>816</th>\n",
       "      <td>5015</td>\n",
       "      <td>srp_Mann.succ._AE016827</td>\n",
       "      <td>srp</td>\n",
       "      <td>GGGGGCUCUGUUGGUUCUCCCGCAACGCUACUCUGUUUACCAGGUC...</td>\n",
       "      <td>118</td>\n",
       "      <td>((((((((((((((((.((((((.((((...((((((.....(((....</td>\n",
       "      <td>[[1, 110], [2, 109], [3, 108], [4, 107], [5, 1...</td>\n",
       "      <td>[1, 1, 1, 1, 1, 1, 1, 1, 1, 1, 1, 1, 1, 1, 1, ...</td>\n",
       "      <td>SSSSSSSSSSSSSSSSISSSSSSBSSSSIIISSSSSSIIIIISSSI...</td>\n",
       "      <td>[1, 1, 1, 1, 1, 1, 1, 1, 1, 1, 1, 1, 1, 1, 1, ...</td>\n",
       "    </tr>\n",
       "    <tr>\n",
       "      <th>303</th>\n",
       "      <td>1875</td>\n",
       "      <td>5s_Dactylosporangium-aurantiacum-1</td>\n",
       "      <td>5s</td>\n",
       "      <td>GUUACGGCGGCCAUAGCGGAGGGGAAACGCCCGGUCCCAUUCCGAA...</td>\n",
       "      <td>121</td>\n",
       "      <td>(((.((((((.....((((((((.....((((((...............</td>\n",
       "      <td>[[1, 119], [2, 118], [3, 117], [5, 116], [6, 1...</td>\n",
       "      <td>[1, 1, 1, 0, 1, 1, 1, 1, 1, 1, 0, 0, 0, 0, 0, ...</td>\n",
       "      <td>SSSBSSSSSSMMMMMSSSSSSSSIIIIISSSSSSHHHHHHHHHHHH...</td>\n",
       "      <td>[1, 1, 1, 0, 1, 1, 1, 1, 1, 1, 0, 0, 0, 0, 0, ...</td>\n",
       "    </tr>\n",
       "  </tbody>\n",
       "</table>\n",
       "</div>"
      ],
      "text/plain": [
       "     Unnamed: 0                                  id  fam  \\\n",
       "816        5015             srp_Mann.succ._AE016827  srp   \n",
       "303        1875  5s_Dactylosporangium-aurantiacum-1   5s   \n",
       "\n",
       "                                              sequence  len  \\\n",
       "816  GGGGGCUCUGUUGGUUCUCCCGCAACGCUACUCUGUUUACCAGGUC...  118   \n",
       "303  GUUACGGCGGCCAUAGCGGAGGGGAAACGCCCGGUCCCAUUCCGAA...  121   \n",
       "\n",
       "                                             structure  \\\n",
       "816  ((((((((((((((((.((((((.((((...((((((.....(((....   \n",
       "303  (((.((((((.....((((((((.....((((((...............   \n",
       "\n",
       "                                            base_pairs  \\\n",
       "816  [[1, 110], [2, 109], [3, 108], [4, 107], [5, 1...   \n",
       "303  [[1, 119], [2, 118], [3, 117], [5, 116], [6, 1...   \n",
       "\n",
       "                                          pseudo_probe  \\\n",
       "816  [1, 1, 1, 1, 1, 1, 1, 1, 1, 1, 1, 1, 1, 1, 1, ...   \n",
       "303  [1, 1, 1, 0, 1, 1, 1, 1, 1, 1, 0, 0, 0, 0, 0, ...   \n",
       "\n",
       "                                                motifs  \\\n",
       "816  SSSSSSSSSSSSSSSSISSSSSSBSSSSIIISSSSSSIIIIISSSI...   \n",
       "303  SSSBSSSSSSMMMMMSSSSSSSSIIIIISSSSSSHHHHHHHHHHHH...   \n",
       "\n",
       "                                                  stem  \n",
       "816  [1, 1, 1, 1, 1, 1, 1, 1, 1, 1, 1, 1, 1, 1, 1, ...  \n",
       "303  [1, 1, 1, 0, 1, 1, 1, 1, 1, 1, 0, 0, 0, 0, 0, ...  "
      ]
     },
     "metadata": {},
     "output_type": "display_data"
    },
    {
     "name": "stdout",
     "output_type": "stream",
     "text": [
      "key: id,   type:<class 'str'>\n",
      "key: length,   type:<class 'int'>\n",
      "key: sequence,   type:<class 'str'>\n",
      "key: embedding,   type:<class 'torch.Tensor'>\n",
      "key: pseudo_probing,   type:<class 'torch.Tensor'>\n",
      "key: stem,   type:<class 'torch.Tensor'>\n",
      "key: motif_emb,   type:<class 'torch.Tensor'>\n"
     ]
    }
   ],
   "source": [
    "import pandas as pd\n",
    "from src.seq2seq.dataset import SeqDataset, pad_batch\n",
    "from src.seq2seq.metrics import compute_metrics\n",
    "from torch.utils.data import DataLoader\n",
    "\n",
    "DATA_PATH = 'data/ArchiveII/ArchiveII_seq_sim_pp_motifs/train_0.csv'\n",
    "df = pd.read_csv(DATA_PATH)\n",
    "\n",
    "display(df.sample(2))\n",
    "data = SeqDataset(dataset_path=DATA_PATH)\n",
    "# print(data[0])\n",
    "for k, i in data[0].items():\n",
    "    print(f'key: {k},   type:{type(i)}')"
   ]
  },
  {
   "cell_type": "code",
   "execution_count": 2,
   "id": "6966b3bc",
   "metadata": {},
   "outputs": [],
   "source": [
    "from functools import partial\n",
    "pad_batch_with_fixed_length = partial(pad_batch, fixed_length=128)\n",
    "batch_size = 1\n",
    "loader = DataLoader(\n",
    "    SeqDataset(DATA_PATH),\n",
    "    batch_size=batch_size,\n",
    "    shuffle=False,\n",
    "    num_workers=0,\n",
    "    collate_fn=pad_batch_with_fixed_length,\n",
    ")\n",
    "load = iter(loader)\n",
    "d = next(load)\n",
    "d2 = next(load)"
   ]
  },
  {
   "cell_type": "code",
   "execution_count": 3,
   "id": "bb197275",
   "metadata": {},
   "outputs": [
    {
     "data": {
      "text/plain": [
       "[75]"
      ]
     },
     "execution_count": 3,
     "metadata": {},
     "output_type": "execute_result"
    }
   ],
   "source": [
    "d['length']\n",
    "d2['length']"
   ]
  },
  {
   "cell_type": "code",
   "execution_count": 4,
   "id": "99b0d576",
   "metadata": {},
   "outputs": [
    {
     "data": {
      "text/plain": [
       "{'F1': 0.4000000000000001, 'Accuracy': 0.4, 'Accuracy_seq': 0.0}"
      ]
     },
     "execution_count": 4,
     "metadata": {},
     "output_type": "execute_result"
    }
   ],
   "source": [
    "compute_metrics(d['motif_emb'],d2['motif_emb'], d2['mask'], binary=False)"
   ]
  },
  {
   "cell_type": "code",
   "execution_count": 5,
   "id": "62d5abb8",
   "metadata": {},
   "outputs": [
    {
     "data": {
      "text/plain": [
       "{'F1': 0.611764705882353, 'Accuracy': 0.56, 'Accuracy_seq': 0.0}"
      ]
     },
     "execution_count": 5,
     "metadata": {},
     "output_type": "execute_result"
    }
   ],
   "source": [
    "compute_metrics(d['pseudo_probing'],d2['pseudo_probing'], d2['mask'], binary=True)"
   ]
  },
  {
   "cell_type": "code",
   "execution_count": 6,
   "id": "6d1aa553",
   "metadata": {},
   "outputs": [],
   "source": [
    "import torch as tr\n",
    "import numpy as np\n",
    "from sklearn.metrics import accuracy_score, f1_score\n",
    "def metrics_test(x,y,mask, expected):\n",
    "    out = compute_metrics(x, y, mask, binary=True)\n",
    "    acc = accuracy_score(x.reshape(6).numpy(), y.reshape(6).numpy())\n",
    "    f1 = f1_score(x.reshape(6).numpy(), y.reshape(6).numpy())\n",
    "    print(f'Expected: {expected}\\n')\n",
    "    print(f'output: {out}\\n')\n",
    "    print(f'sklearn: f1: {f1},  acc: {acc},\\n')"
   ]
  },
  {
   "cell_type": "code",
   "execution_count": 9,
   "id": "ebd86186",
   "metadata": {},
   "outputs": [
    {
     "name": "stdout",
     "output_type": "stream",
     "text": [
      "torch.Size([2, 1, 3])\n",
      "torch.Size([2, 1, 3])\n",
      "torch.Size([2, 3])\n",
      "Expected: {'acc': 0}\n",
      "\n",
      "output: {'F1': 0.8571428571428571, 'Accuracy': 0.8333333333333334, 'Accuracy_seq': 0.5}\n",
      "\n",
      "sklearn: f1: 0.8571428571428571,  acc: 0.8333333333333334,\n",
      "\n"
     ]
    }
   ],
   "source": [
    "import torch as tr\n",
    "import numpy as np\n",
    "from sklearn.metrics import accuracy_score\n",
    "\n",
    "x = tr.Tensor([[[ 0.,  1.,  0.], ], \n",
    "               [[ 1.,  1.,  1.], ], \n",
    "               ])\n",
    "\n",
    "y = tr.Tensor([[[ 0.,  1.,  0.], ], \n",
    "               [[ 1.,  0.,  1.],], \n",
    "               ])\n",
    "mask = tr.zeros(2, 3, dtype= tr.bool)\n",
    "mask[:,:] = True\n",
    "print(x.shape)\n",
    "print(y.shape)\n",
    "print(mask.shape)\n",
    "metrics_test(x,y,mask,expected={'acc':0}) "
   ]
  },
  {
   "cell_type": "code",
   "execution_count": 67,
   "id": "8d7d96bf",
   "metadata": {},
   "outputs": [
    {
     "name": "stdout",
     "output_type": "stream",
     "text": [
      "tensor([0., 1., 0., 1., 1., 1.])\n",
      "tensor([0., 1., 0., 1., 0., 1.])\n"
     ]
    }
   ],
   "source": [
    "print(x.reshape(6))\n",
    "print(y.reshape(6))"
   ]
  },
  {
   "cell_type": "code",
   "execution_count": null,
   "id": "456a20eb",
   "metadata": {},
   "outputs": [
    {
     "name": "stdout",
     "output_type": "stream",
     "text": [
      "\n",
      "    TP       : 3\n",
      "    FP       : 1\n",
      "    FN       : 0\n",
      "    TN       : 2\n",
      "    accuracy : 0.8333333333333334       \n",
      "    precision: 0.75\n",
      "    recall   : 1.0   \n",
      "    f1       : 0.8571428571428571\n",
      "    \n"
     ]
    }
   ],
   "source": [
    "\n",
    "TP = ((x == 1) & (y == 1)).sum().item()\n",
    "FP = ((x == 1) & (y == 0)).sum().item()\n",
    "FN = ((x == 0) & (y == 1)).sum().item()\n",
    "TN = ((x == 0) & (y == 0)).sum().item()\n",
    "total = mask.sum().item()\n",
    "accuracy = TP/total if total>0 else 0.0\n",
    "precision = TP/(TP+FP) if (TP+FP)>0 else 0.0\n",
    "recall    = TP/(TP+FN) if (TP+FN)>0 else 0.0\n",
    "f1        = 2*precision*recall/(precision+recall) if (precision+recall)>0 else 0.0\n",
    "\n",
    "print(\n",
    "    f'''\n",
    "    TP       : {TP}\n",
    "    FP       : {FP}\n",
    "    FN       : {FN}\n",
    "    TN       : {TN}\n",
    "    accuracy : {accuracy}       \n",
    "    precision: {precision}\n",
    "    recall   : {recall}   \n",
    "    f1       : {f1}\n",
    "    '''\n",
    ")"
   ]
  },
  {
   "cell_type": "code",
   "execution_count": null,
   "id": "5091d2d4",
   "metadata": {},
   "outputs": [
    {
     "data": {
      "text/plain": [
       "tensor([[0],\n",
       "        [0]])"
      ]
     },
     "execution_count": 28,
     "metadata": {},
     "output_type": "execute_result"
    }
   ],
   "source": [
    "x.argmax(dim=1)"
   ]
  },
  {
   "cell_type": "code",
   "execution_count": null,
   "id": "9c54ad9f",
   "metadata": {},
   "outputs": [
    {
     "data": {
      "text/plain": [
       "tensor([[0],\n",
       "        [0]])"
      ]
     },
     "execution_count": 29,
     "metadata": {},
     "output_type": "execute_result"
    }
   ],
   "source": [
    "y.argmax(dim=1)"
   ]
  },
  {
   "cell_type": "code",
   "execution_count": null,
   "id": "6bd9b873",
   "metadata": {},
   "outputs": [],
   "source": []
  }
 ],
 "metadata": {
  "kernelspec": {
   "display_name": "Experiments",
   "language": "python",
   "name": "python3"
  },
  "language_info": {
   "codemirror_mode": {
    "name": "ipython",
    "version": 3
   },
   "file_extension": ".py",
   "mimetype": "text/x-python",
   "name": "python",
   "nbconvert_exporter": "python",
   "pygments_lexer": "ipython3",
   "version": "3.10.16"
  }
 },
 "nbformat": 4,
 "nbformat_minor": 5
}
